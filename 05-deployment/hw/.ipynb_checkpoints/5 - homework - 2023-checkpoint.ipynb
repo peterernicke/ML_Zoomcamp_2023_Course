{
 "cells": [
  {
   "cell_type": "markdown",
   "id": "2600758e",
   "metadata": {},
   "source": [
    "# Homework"
   ]
  },
  {
   "cell_type": "code",
   "execution_count": 3,
   "id": "bae4a040-c8a2-4d1f-9d7d-00f58e5f9a4c",
   "metadata": {},
   "outputs": [
    {
     "name": "stdout",
     "output_type": "stream",
     "text": [
      "--2023-10-15 17:36:23--  https://raw.githubusercontent.com/DataTalksClub/machine-learning-zoomcamp/master/cohorts/2023/05-deployment/homework/model1.bin\n",
      "Resolving raw.githubusercontent.com (raw.githubusercontent.com)... 2606:50c0:8000::154, 2606:50c0:8001::154, 2606:50c0:8002::154, ...\n",
      "Connecting to raw.githubusercontent.com (raw.githubusercontent.com)|2606:50c0:8000::154|:443... connected.\n",
      "HTTP request sent, awaiting response... 200 OK\n",
      "Length: 842 [application/octet-stream]\n",
      "Saving to: ‘model1.bin’\n",
      "\n",
      "model1.bin          100%[===================>]     842  --.-KB/s    in 0s      \n",
      "\n",
      "2023-10-15 17:36:23 (15,7 MB/s) - ‘model1.bin’ saved [842/842]\n",
      "\n",
      "--2023-10-15 17:36:23--  https://raw.githubusercontent.com/DataTalksClub/machine-learning-zoomcamp/master/cohorts/2023/05-deployment/homework/dv.bin\n",
      "Resolving raw.githubusercontent.com (raw.githubusercontent.com)... 2606:50c0:8003::154, 2606:50c0:8001::154, 2606:50c0:8000::154, ...\n",
      "Connecting to raw.githubusercontent.com (raw.githubusercontent.com)|2606:50c0:8003::154|:443... connected.\n",
      "HTTP request sent, awaiting response... 200 OK\n",
      "Length: 560 [application/octet-stream]\n",
      "Saving to: ‘dv.bin’\n",
      "\n",
      "dv.bin              100%[===================>]     560  --.-KB/s    in 0s      \n",
      "\n",
      "2023-10-15 17:36:24 (8,28 MB/s) - ‘dv.bin’ saved [560/560]\n",
      "\n"
     ]
    }
   ],
   "source": [
    "!wget https://raw.githubusercontent.com/DataTalksClub/machine-learning-zoomcamp/master/cohorts/2023/05-deployment/homework/model1.bin\n",
    "!wget https://raw.githubusercontent.com/DataTalksClub/machine-learning-zoomcamp/master/cohorts/2023/05-deployment/homework/dv.bin"
   ]
  },
  {
   "cell_type": "code",
   "execution_count": null,
   "id": "c1aa5adb-4e8e-4757-a9c5-2f70e1ce8aae",
   "metadata": {},
   "outputs": [],
   "source": []
  },
  {
   "cell_type": "markdown",
   "id": "20bf23a2",
   "metadata": {},
   "source": [
    "## Question 1          Answer: version 2023.10.3\n",
    "\n",
    "- Install Pipenv\n",
    "- What's the version of pipenv you installed?\n",
    "- Use --version to find out\n"
   ]
  },
  {
   "cell_type": "code",
   "execution_count": 1,
   "id": "72812356",
   "metadata": {},
   "outputs": [
    {
     "name": "stdout",
     "output_type": "stream",
     "text": [
      "\u001b[1mpipenv\u001b[0m, version 2023.10.3\n"
     ]
    }
   ],
   "source": [
    "!pipenv --version"
   ]
  },
  {
   "cell_type": "markdown",
   "id": "23a8a1b5",
   "metadata": {},
   "source": [
    "## Question 2          \n",
    "Answer: \"sha256:0c275a06c5190c5ce00af0acbb61c06374087949f643ef32d355ece12c4db043\"\n",
    "\n",
    "- Use Pipenv to install Scikit-Learn version 1.3.1\n",
    "- What's the first hash for scikit-learn you get in Pipfile.lock?\n",
    "\n",
    "- Note: you should create an empty folder for homework and do it there.\n"
   ]
  },
  {
   "cell_type": "code",
   "execution_count": 2,
   "id": "95238a55",
   "metadata": {},
   "outputs": [
    {
     "name": "stdout",
     "output_type": "stream",
     "text": [
      "\u001b[1;32mInstalling scikit-\u001b[0m\u001b[1;33mlearn\u001b[0m\u001b[1;32m==\u001b[0m\u001b[1;36m1.3\u001b[0m\u001b[1;32m.\u001b[0m\u001b[1;36m1\u001b[0m\u001b[1;33m...\u001b[0m\n",
      "\u001b[?25lResolving scikit-\u001b[33mlearn\u001b[0m==\u001b[1;36m1.3\u001b[0m.\u001b[1;36m1\u001b[0m\u001b[33m...\u001b[0m\n",
      "\u001b[2K\u001b[1mAdded \u001b[0m\u001b[1;32mscikit-learn\u001b[0m to Pipfile's \u001b[1;33m[\u001b[0m\u001b[33mpackages\u001b[0m\u001b[1;33m]\u001b[0m \u001b[33m...\u001b[0m\n",
      "\u001b[2K✔ Installation Succeeded-learn...\n",
      "\u001b[2K\u001b[32m⠋\u001b[0m Installing scikit-learn...\n",
      "\u001b[1A\u001b[2K\u001b[1;33mPipfile.lock \u001b[0m\u001b[1;33m(\u001b[0m\u001b[1;33mc8a83b\u001b[0m\u001b[1;33m)\u001b[0m\u001b[1;33m out of date, updating to \u001b[0m\u001b[1;33m(\u001b[0m\u001b[1;33m28f95e\u001b[0m\u001b[1;33m)\u001b[0m\u001b[1;33m...\u001b[0m\n",
      "Locking\u001b[0m \u001b[33m[packages]\u001b[0m dependencies...\u001b[0m\n",
      "\u001b[?25lBuilding requirements\u001b[33m...\u001b[0m\n",
      "\u001b[2KResolving dependencies\u001b[33m...\u001b[0m\n",
      "\u001b[2K✔ Success! Locking...\n",
      "\u001b[2K\u001b[32m⠏\u001b[0m Locking...\n",
      "\u001b[1A\u001b[2KLocking\u001b[0m \u001b[33m[dev-packages]\u001b[0m dependencies...\u001b[0m\n",
      "\u001b[1mUpdated Pipfile.lock (97f5c998a605c73a9b6a545434e4480a7fa7929a35d5edfd2f08baa07628f95e)!\u001b[0m\n",
      "\u001b[1mInstalling dependencies from Pipfile.lock \u001b[0m\u001b[1m(\u001b[0m\u001b[1m28f95e\u001b[0m\u001b[1m)\u001b[0m\u001b[1;33m...\u001b[0m\n"
     ]
    }
   ],
   "source": [
    "!pipenv install scikit-learn==1.3.1"
   ]
  },
  {
   "cell_type": "code",
   "execution_count": 7,
   "id": "1f3a869b-aa31-4fc3-92bf-3e8235e3f31c",
   "metadata": {},
   "outputs": [
    {
     "name": "stdout",
     "output_type": "stream",
     "text": [
      "\u001b[1;32mInstalling scikit-\u001b[0m\u001b[1;33mlearn\u001b[0m\u001b[1;32m==\u001b[0m\u001b[1;36m1.3\u001b[0m\u001b[1;32m.\u001b[0m\u001b[1;36m1\u001b[0m\u001b[1;33m...\u001b[0m\n",
      "\u001b[?25lResolving scikit-\u001b[33mlearn\u001b[0m==\u001b[1;36m1.3\u001b[0m.\u001b[1;36m1\u001b[0m\u001b[33m...\u001b[0m\n",
      "\u001b[2K✔ Installation Succeeded\n",
      "\u001b[2K\u001b[32m⠋\u001b[0m Installing scikit-learn...\n",
      "\u001b[1A\u001b[2K\u001b[1mInstalling dependencies from Pipfile.lock \u001b[0m\u001b[1m(\u001b[0m\u001b[1m28f95e\u001b[0m\u001b[1m)\u001b[0m\u001b[1;33m...\u001b[0m\n"
     ]
    }
   ],
   "source": [
    "!pipenv install scikit-learn==1.3.1"
   ]
  },
  {
   "cell_type": "raw",
   "id": "65bdcf8b-9392-4b1a-af10-072f39b31aed",
   "metadata": {},
   "source": [
    "Models\n",
    "We've prepared a dictionary vectorizer and a model.\n",
    "They were trained (roughly) using this code:\n",
    "\n",
    "features = ['job','duration', 'poutcome']\n",
    "dicts = df[features].to_dict(orient='records')\n",
    "\n",
    "dv = DictVectorizer(sparse=False)\n",
    "X = dv.fit_transform(dicts)\n",
    "\n",
    "model = LogisticRegression().fit(X, y)\n",
    "\n",
    "Note: You don't need to train the model. This code is just for your reference.\n",
    "\n",
    "And then saved with Pickle. Download them:\n",
    "\n",
    "With wget:\n",
    "PREFIX=https://raw.githubusercontent.com/DataTalksClub/machine-learning-zoomcamp/master/cohorts/2023/05-deployment/homework\n",
    "wget $PREFIX/model1.bin\n",
    "wget $PREFIX/dv.bin"
   ]
  },
  {
   "cell_type": "markdown",
   "id": "837ef2c2-7193-419e-9e69-a0359b692433",
   "metadata": {},
   "source": [
    "## Question 3          Answer: 0.902\n",
    "Let's use these models!\n",
    "\n",
    "- Write a script for loading these models with pickle\n",
    "- Score this client:\n",
    "{\"job\": \"retired\", \"duration\": 445, \"poutcome\": \"success\"}\n",
    "\n",
    "What's the probability that this client will get a credit?\n",
    "\n",
    "    0.162\n",
    "    0.392\n",
    "    0.652\n",
    "    0.902\n"
   ]
  },
  {
   "cell_type": "code",
   "execution_count": 17,
   "id": "e817560a-9b31-4e6f-b8bb-3161e2ea8a2b",
   "metadata": {},
   "outputs": [
    {
     "data": {
      "text/plain": [
       "0.902"
      ]
     },
     "execution_count": 17,
     "metadata": {},
     "output_type": "execute_result"
    }
   ],
   "source": [
    "import pickle\n",
    "\n",
    "model_file = 'model1.bin'\n",
    "dv_file = 'dv.bin'\n",
    "\n",
    "with open(model_file, 'rb') as f_in:\n",
    "    model = pickle.load(f_in)\n",
    "\n",
    "with open(dv_file, 'rb') as f_in:\n",
    "    dv = pickle.load(f_in)\n",
    "\n",
    "features = ['job','duration', 'poutcome']\n",
    "client = {\n",
    "    \"job\": \"retired\", \n",
    "    \"duration\": 445, \n",
    "    \"poutcome\": \"success\"\n",
    "}\n",
    "\n",
    "X = dv.transform([client])\n",
    "y_pred = model.predict_proba(X)[:,1]\n",
    "round(y_pred[0], 3)"
   ]
  },
  {
   "cell_type": "markdown",
   "id": "5bbb9e44-4f87-49b5-8f5c-c8ec1e21af91",
   "metadata": {},
   "source": [
    "# Question 4          Answer: 0.140\n",
    "Now let's serve this model as a web service\n",
    "\n",
    "- Install Flask and gunicorn (or waitress, if you're on Windows)\n",
    "- Write Flask code for serving the model\n",
    "- Now score this client using requests:\n",
    "\n",
    "url = \"YOUR_URL\"\n",
    "\n",
    "client = {\"job\": \"unknown\", \"duration\": 270, \"poutcome\": \"failure\"}\n",
    "\n",
    "requests.post(url, json=client).json()\n",
    "\n",
    "What's the probability that this client will get a credit?\n",
    "\n",
    "    0.140\n",
    "    0.440\n",
    "    0.645\n",
    "    0.845\n"
   ]
  },
  {
   "cell_type": "code",
   "execution_count": 18,
   "id": "36a5bb9a-fb62-4d45-bef5-c00a40199dea",
   "metadata": {},
   "outputs": [
    {
     "name": "stdout",
     "output_type": "stream",
     "text": [
      "\u001b[1;32mInstalling flask\u001b[0m\u001b[1;33m...\u001b[0m\n",
      "\u001b[?25lResolving flask\u001b[33m...\u001b[0m\n",
      "\u001b[2K\u001b[1mAdded \u001b[0m\u001b[1;32mflask\u001b[0m to Pipfile's \u001b[1;33m[\u001b[0m\u001b[33mpackages\u001b[0m\u001b[1;33m]\u001b[0m \u001b[33m...\u001b[0m\n",
      "\u001b[2K✔ Installation Succeeded..\n",
      "\u001b[2K\u001b[32m⠋\u001b[0m Installing flask...\n",
      "\u001b[1A\u001b[2K\u001b[1;32mInstalling gunicorn\u001b[0m\u001b[1;33m...\u001b[0m\n",
      "\u001b[?25lResolving gunicorn\u001b[33m...\u001b[0m\n",
      "\u001b[2K\u001b[1mAdded \u001b[0m\u001b[1;32mgunicorn\u001b[0m to Pipfile's \u001b[1;33m[\u001b[0m\u001b[33mpackages\u001b[0m\u001b[1;33m]\u001b[0m \u001b[33m...\u001b[0m\n",
      "\u001b[2K✔ Installation Succeededrn...\n",
      "\u001b[2K\u001b[32m⠋\u001b[0m Installing gunicorn...\n",
      "\u001b[1A\u001b[2K\u001b[1;33mPipfile.lock \u001b[0m\u001b[1;33m(\u001b[0m\u001b[1;33m28f95e\u001b[0m\u001b[1;33m)\u001b[0m\u001b[1;33m out of date, updating to \u001b[0m\u001b[1;33m(\u001b[0m\u001b[1;33m54490b\u001b[0m\u001b[1;33m)\u001b[0m\u001b[1;33m...\u001b[0m\n",
      "Locking\u001b[0m \u001b[33m[packages]\u001b[0m dependencies...\u001b[0m\n",
      "\u001b[?25lBuilding requirements\u001b[33m...\u001b[0m\n",
      "\u001b[2KResolving dependencies\u001b[33m...\u001b[0m\n",
      "\u001b[2K✔ Success! Locking...\n",
      "\u001b[2K\u001b[32m⠋\u001b[0m Locking...\n",
      "\u001b[1A\u001b[2KLocking\u001b[0m \u001b[33m[dev-packages]\u001b[0m dependencies...\u001b[0m\n",
      "\u001b[1mUpdated Pipfile.lock (e4a98c1c732eb3ee8fb5da5fda09b1ed1f3d760f724d7106b9e38eae2754490b)!\u001b[0m\n",
      "\u001b[1mInstalling dependencies from Pipfile.lock \u001b[0m\u001b[1m(\u001b[0m\u001b[1m54490b\u001b[0m\u001b[1m)\u001b[0m\u001b[1;33m...\u001b[0m\n"
     ]
    }
   ],
   "source": [
    "!pipenv install flask gunicorn"
   ]
  },
  {
   "cell_type": "raw",
   "id": "3630fa92-0bbb-499f-9ecc-4a1a7bda5ae7",
   "metadata": {},
   "source": [
    "## Docker\n",
    "Install Docker. We will use it for the next two questions.\n",
    "\n",
    "For these questions, we prepared a base image: svizor/zoomcamp-model:3.10.12-slim. You'll need to use it (see Question 5 for an example).\n",
    "\n",
    "This image is based on python:3.10.12-slim and has a logistic regression model (a different one) as well a dictionary vectorizer inside.\n",
    "\n",
    "This is how the Dockerfile for this image looks like:\n",
    "\n",
    "FROM python:3.10.12-slim\n",
    "WORKDIR /app\n",
    "COPY [\"model2.bin\", \"dv.bin\", \"./\"]\n",
    "\n",
    "We already built it and then pushed it to svizor/zoomcamp-model:3.10.12-slim.\n",
    "\n",
    "Note: You don't need to build this docker image, it's just for your reference.\n"
   ]
  },
  {
   "cell_type": "markdown",
   "id": "c834c624-4cf8-4755-b3b8-06bf9b9948e3",
   "metadata": {},
   "source": [
    "# Question 5          Answer: 147 MB\n",
    "\n",
    "Download the base image svizor/zoomcamp-model:3.10.12-slim. You can easily make it by using docker pull command.\n",
    "\n",
    "So what's the size of this base image?\n",
    "\n",
    "    47 MB\n",
    "    147 MB\n",
    "    374 MB\n",
    "    574 MB\n",
    "\n",
    "You can get this information when running docker images - it'll be in the \"SIZE\" column."
   ]
  },
  {
   "cell_type": "code",
   "execution_count": 1,
   "id": "cec5998a-e2e1-474b-8f4a-506fdf62243a",
   "metadata": {},
   "outputs": [
    {
     "name": "stdout",
     "output_type": "stream",
     "text": [
      "Unable to find image 'svizor/zoomcamp-model:3.10.12-slim' locally\n",
      "3.10.12-slim: Pulling from svizor/zoomcamp-model\n",
      "\n",
      "\u001b[1Bb7f179e3: Already exists \n",
      "\u001b[1B9a2240c1: Already exists \n",
      "\u001b[1B49bbc6c6: Pulling fs layer \n",
      "\u001b[1B13076071: Pulling fs layer \n",
      "\u001b[1B6fc2ebde: Pulling fs layer \n",
      "\u001b[1B99e7b037: Pulling fs layer \n",
      "\u001b[1Be3220190: Pull complete 139kB/1.139kBB\u001b[5A\u001b[2K\u001b[5A\u001b[2K\u001b[3A\u001b[2K\u001b[3A\u001b[2K\u001b[5A\u001b[2K\u001b[3A\u001b[2K\u001b[3A\u001b[2K\u001b[5A\u001b[2K\u001b[3A\u001b[2K\u001b[5A\u001b[2K\u001b[2A\u001b[2K\u001b[3A\u001b[2K\u001b[3A\u001b[2K\u001b[5A\u001b[2K\u001b[5A\u001b[2K\u001b[5A\u001b[2K\u001b[5A\u001b[2K\u001b[1A\u001b[2K\u001b[5A\u001b[2K\u001b[5A\u001b[2K\u001b[5A\u001b[2K\u001b[5A\u001b[2K\u001b[5A\u001b[2K\u001b[5A\u001b[2K\u001b[5A\u001b[2K\u001b[5A\u001b[2K\u001b[5A\u001b[2K\u001b[5A\u001b[2K\u001b[5A\u001b[2K\u001b[5A\u001b[2K\u001b[5A\u001b[2K\u001b[5A\u001b[2K\u001b[5A\u001b[2K\u001b[5A\u001b[2K\u001b[5A\u001b[2K\u001b[5A\u001b[2K\u001b[5A\u001b[2K\u001b[5A\u001b[2K\u001b[5A\u001b[2K\u001b[5A\u001b[2K\u001b[5A\u001b[2K\u001b[5A\u001b[2K\u001b[5A\u001b[2K\u001b[5A\u001b[2K\u001b[5A\u001b[2K\u001b[5A\u001b[2K\u001b[5A\u001b[2K\u001b[4A\u001b[2K\u001b[4A\u001b[2K\u001b[3A\u001b[2K\u001b[3A\u001b[2K\u001b[3A\u001b[2K\u001b[3A\u001b[2K\u001b[3A\u001b[2K\u001b[3A\u001b[2K\u001b[2A\u001b[2K\u001b[1A\u001b[2KDigest: sha256:e8441100b9d8da56344f50c673eb2daded3c61ce9565e45c3592c02f34fb3149\n",
      "Status: Downloaded newer image for svizor/zoomcamp-model:3.10.12-slim\n",
      "Python 3.10.12 (main, Aug 16 2023, 05:39:07) [GCC 12.2.0] on linux\n",
      "Type \"help\", \"copyright\", \"credits\" or \"license\" for more information.\n",
      ">>> \n",
      "Traceback (most recent call last):\n",
      "  File \"<stdin>\", line 1, in <module>\n",
      "KeyboardInterrupt\n",
      ">>> "
     ]
    }
   ],
   "source": [
    "!pipenv run docker run -it --rm svizor/zoomcamp-model:3.10.12-slim"
   ]
  },
  {
   "cell_type": "markdown",
   "id": "cf4157fc-fd07-4f1f-8e53-8acddaf24501",
   "metadata": {},
   "source": [
    "# Dockerfile\n",
    "\n",
    "Now create your own Dockerfile based on the image we prepared.\n",
    "\n",
    "It should start like that:"
   ]
  },
  {
   "cell_type": "raw",
   "id": "e66f433f-423f-4215-86fa-977fcffc5c5d",
   "metadata": {},
   "source": [
    "FROM svizor/zoomcamp-model:3.10.12-slim\n",
    "# add your stuff here"
   ]
  },
  {
   "cell_type": "markdown",
   "id": "2cf9b779-1c58-4b19-8642-7be34c03cff3",
   "metadata": {},
   "source": [
    "Now complete it:\n",
    "\n",
    "- Install all the dependencies form the Pipenv file\n",
    "- Copy your Flask script\n",
    "- Run it with Gunicorn\n",
    "\n",
    "After that, you can build your docker image."
   ]
  },
  {
   "cell_type": "markdown",
   "id": "36655367-2cdf-45a0-be59-ea423bc3b1d2",
   "metadata": {},
   "source": [
    "docker build -t zoomcamp-hw05 ."
   ]
  },
  {
   "cell_type": "markdown",
   "id": "95ca7c9a-0a68-491b-83b3-ede96ca66232",
   "metadata": {},
   "source": [
    "# Question 6          Answer: 0.902 is not an option... --> 0.968 ?\n",
    "Let's run your docker container!\n",
    "\n",
    "After running it, score this client once again:"
   ]
  },
  {
   "cell_type": "raw",
   "id": "bb679efa-da45-496a-9825-bd164ea03aa4",
   "metadata": {},
   "source": [
    "url = \"YOUR_URL\"\n",
    "client = {\"job\": \"retired\", \"duration\": 445, \"poutcome\": \"success\"}\n",
    "requests.post(url, json=client).json()"
   ]
  },
  {
   "cell_type": "markdown",
   "id": "e1f10341-df0a-4179-b0f4-73af7254e052",
   "metadata": {},
   "source": [
    "What's the probability that this client will get a credit now?\n",
    "\n",
    "    0.168\n",
    "    0.530\n",
    "    0.730\n",
    "    0.968"
   ]
  },
  {
   "cell_type": "code",
   "execution_count": null,
   "id": "86554669-0001-4ae6-9d5d-b4ec7fe836dc",
   "metadata": {},
   "outputs": [],
   "source": [
    "docker run -it --rm -p 9696:9696 zoomcamp-hw05"
   ]
  }
 ],
 "metadata": {
  "kernelspec": {
   "display_name": "Python 3 (ipykernel)",
   "language": "python",
   "name": "python3"
  },
  "language_info": {
   "codemirror_mode": {
    "name": "ipython",
    "version": 3
   },
   "file_extension": ".py",
   "mimetype": "text/x-python",
   "name": "python",
   "nbconvert_exporter": "python",
   "pygments_lexer": "ipython3",
   "version": "3.10.12"
  }
 },
 "nbformat": 4,
 "nbformat_minor": 5
}
