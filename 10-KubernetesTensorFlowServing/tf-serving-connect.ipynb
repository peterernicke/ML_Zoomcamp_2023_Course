{
 "cells": [
  {
   "cell_type": "code",
   "execution_count": 1,
   "metadata": {},
   "outputs": [
    {
     "data": {
      "application/javascript": "IPython.notebook.set_autosave_interval(0)"
     },
     "metadata": {},
     "output_type": "display_data"
    },
    {
     "name": "stdout",
     "output_type": "stream",
     "text": [
      "Autosave disabled\n"
     ]
    }
   ],
   "source": [
    "%autosave 0"
   ]
  },
  {
   "cell_type": "code",
   "execution_count": 10,
   "metadata": {},
   "outputs": [
    {
     "name": "stdout",
     "output_type": "stream",
     "text": [
      "Defaulting to user installation because normal site-packages is not writeable\n",
      "Requirement already satisfied: tensorflow in /Users/erni/Library/Python/3.9/lib/python/site-packages (2.15.0)\n",
      "Requirement already satisfied: tensorflow-macos==2.15.0 in /Users/erni/Library/Python/3.9/lib/python/site-packages (from tensorflow) (2.15.0)\n",
      "Requirement already satisfied: absl-py>=1.0.0 in /Users/erni/Library/Python/3.9/lib/python/site-packages (from tensorflow-macos==2.15.0->tensorflow) (2.0.0)\n",
      "Requirement already satisfied: astunparse>=1.6.0 in /Users/erni/Library/Python/3.9/lib/python/site-packages (from tensorflow-macos==2.15.0->tensorflow) (1.6.3)\n",
      "Requirement already satisfied: flatbuffers>=23.5.26 in /Users/erni/Library/Python/3.9/lib/python/site-packages (from tensorflow-macos==2.15.0->tensorflow) (23.5.26)\n",
      "Requirement already satisfied: gast!=0.5.0,!=0.5.1,!=0.5.2,>=0.2.1 in /Users/erni/Library/Python/3.9/lib/python/site-packages (from tensorflow-macos==2.15.0->tensorflow) (0.5.4)\n",
      "Requirement already satisfied: google-pasta>=0.1.1 in /Users/erni/Library/Python/3.9/lib/python/site-packages (from tensorflow-macos==2.15.0->tensorflow) (0.2.0)\n",
      "Requirement already satisfied: h5py>=2.9.0 in /Users/erni/Library/Python/3.9/lib/python/site-packages (from tensorflow-macos==2.15.0->tensorflow) (3.10.0)\n",
      "Requirement already satisfied: libclang>=13.0.0 in /Users/erni/Library/Python/3.9/lib/python/site-packages (from tensorflow-macos==2.15.0->tensorflow) (16.0.6)\n",
      "Requirement already satisfied: ml-dtypes~=0.2.0 in /Users/erni/Library/Python/3.9/lib/python/site-packages (from tensorflow-macos==2.15.0->tensorflow) (0.2.0)\n",
      "Requirement already satisfied: numpy<2.0.0,>=1.23.5 in /Users/erni/Library/Python/3.9/lib/python/site-packages (from tensorflow-macos==2.15.0->tensorflow) (1.26.0)\n",
      "Requirement already satisfied: opt-einsum>=2.3.2 in /Users/erni/Library/Python/3.9/lib/python/site-packages (from tensorflow-macos==2.15.0->tensorflow) (3.3.0)\n",
      "Requirement already satisfied: packaging in /Users/erni/Library/Python/3.9/lib/python/site-packages (from tensorflow-macos==2.15.0->tensorflow) (23.1)\n",
      "Requirement already satisfied: protobuf!=4.21.0,!=4.21.1,!=4.21.2,!=4.21.3,!=4.21.4,!=4.21.5,<5.0.0dev,>=3.20.3 in /Users/erni/Library/Python/3.9/lib/python/site-packages (from tensorflow-macos==2.15.0->tensorflow) (4.23.4)\n",
      "Requirement already satisfied: setuptools in /Users/erni/Library/Python/3.9/lib/python/site-packages (from tensorflow-macos==2.15.0->tensorflow) (68.2.2)\n",
      "Requirement already satisfied: six>=1.12.0 in /Applications/Xcode.app/Contents/Developer/Library/Frameworks/Python3.framework/Versions/3.9/lib/python3.9/site-packages (from tensorflow-macos==2.15.0->tensorflow) (1.15.0)\n",
      "Requirement already satisfied: termcolor>=1.1.0 in /Users/erni/Library/Python/3.9/lib/python/site-packages (from tensorflow-macos==2.15.0->tensorflow) (2.3.0)\n",
      "Requirement already satisfied: typing-extensions>=3.6.6 in /Users/erni/Library/Python/3.9/lib/python/site-packages (from tensorflow-macos==2.15.0->tensorflow) (4.8.0)\n",
      "Requirement already satisfied: wrapt<1.15,>=1.11.0 in /Users/erni/Library/Python/3.9/lib/python/site-packages (from tensorflow-macos==2.15.0->tensorflow) (1.14.1)\n",
      "Requirement already satisfied: tensorflow-io-gcs-filesystem>=0.23.1 in /Users/erni/Library/Python/3.9/lib/python/site-packages (from tensorflow-macos==2.15.0->tensorflow) (0.34.0)\n",
      "Requirement already satisfied: grpcio<2.0,>=1.24.3 in /Users/erni/Library/Python/3.9/lib/python/site-packages (from tensorflow-macos==2.15.0->tensorflow) (1.59.3)\n",
      "Requirement already satisfied: tensorboard<2.16,>=2.15 in /Users/erni/Library/Python/3.9/lib/python/site-packages (from tensorflow-macos==2.15.0->tensorflow) (2.15.1)\n",
      "Requirement already satisfied: tensorflow-estimator<2.16,>=2.15.0 in /Users/erni/Library/Python/3.9/lib/python/site-packages (from tensorflow-macos==2.15.0->tensorflow) (2.15.0)\n",
      "Requirement already satisfied: keras<2.16,>=2.15.0 in /Users/erni/Library/Python/3.9/lib/python/site-packages (from tensorflow-macos==2.15.0->tensorflow) (2.15.0)\n",
      "Requirement already satisfied: wheel<1.0,>=0.23.0 in /Applications/Xcode.app/Contents/Developer/Library/Frameworks/Python3.framework/Versions/3.9/lib/python3.9/site-packages (from astunparse>=1.6.0->tensorflow-macos==2.15.0->tensorflow) (0.37.0)\n",
      "Requirement already satisfied: google-auth<3,>=1.6.3 in /Users/erni/Library/Python/3.9/lib/python/site-packages (from tensorboard<2.16,>=2.15->tensorflow-macos==2.15.0->tensorflow) (2.23.4)\n",
      "Requirement already satisfied: google-auth-oauthlib<2,>=0.5 in /Users/erni/Library/Python/3.9/lib/python/site-packages (from tensorboard<2.16,>=2.15->tensorflow-macos==2.15.0->tensorflow) (1.1.0)\n",
      "Requirement already satisfied: markdown>=2.6.8 in /Users/erni/Library/Python/3.9/lib/python/site-packages (from tensorboard<2.16,>=2.15->tensorflow-macos==2.15.0->tensorflow) (3.5.1)\n",
      "Requirement already satisfied: requests<3,>=2.21.0 in /Users/erni/Library/Python/3.9/lib/python/site-packages (from tensorboard<2.16,>=2.15->tensorflow-macos==2.15.0->tensorflow) (2.31.0)\n",
      "Requirement already satisfied: tensorboard-data-server<0.8.0,>=0.7.0 in /Users/erni/Library/Python/3.9/lib/python/site-packages (from tensorboard<2.16,>=2.15->tensorflow-macos==2.15.0->tensorflow) (0.7.2)\n",
      "Requirement already satisfied: werkzeug>=1.0.1 in /Users/erni/Library/Python/3.9/lib/python/site-packages (from tensorboard<2.16,>=2.15->tensorflow-macos==2.15.0->tensorflow) (3.0.1)\n",
      "Requirement already satisfied: cachetools<6.0,>=2.0.0 in /Users/erni/Library/Python/3.9/lib/python/site-packages (from google-auth<3,>=1.6.3->tensorboard<2.16,>=2.15->tensorflow-macos==2.15.0->tensorflow) (5.3.2)\n",
      "Requirement already satisfied: pyasn1-modules>=0.2.1 in /Users/erni/Library/Python/3.9/lib/python/site-packages (from google-auth<3,>=1.6.3->tensorboard<2.16,>=2.15->tensorflow-macos==2.15.0->tensorflow) (0.3.0)\n",
      "Requirement already satisfied: rsa<5,>=3.1.4 in /Users/erni/Library/Python/3.9/lib/python/site-packages (from google-auth<3,>=1.6.3->tensorboard<2.16,>=2.15->tensorflow-macos==2.15.0->tensorflow) (4.9)\n",
      "Requirement already satisfied: requests-oauthlib>=0.7.0 in /Users/erni/Library/Python/3.9/lib/python/site-packages (from google-auth-oauthlib<2,>=0.5->tensorboard<2.16,>=2.15->tensorflow-macos==2.15.0->tensorflow) (1.3.1)\n",
      "Requirement already satisfied: importlib-metadata>=4.4 in /Users/erni/Library/Python/3.9/lib/python/site-packages (from markdown>=2.6.8->tensorboard<2.16,>=2.15->tensorflow-macos==2.15.0->tensorflow) (6.8.0)\n",
      "Requirement already satisfied: charset-normalizer<4,>=2 in /Users/erni/Library/Python/3.9/lib/python/site-packages (from requests<3,>=2.21.0->tensorboard<2.16,>=2.15->tensorflow-macos==2.15.0->tensorflow) (3.3.0)\n",
      "Requirement already satisfied: idna<4,>=2.5 in /Users/erni/Library/Python/3.9/lib/python/site-packages (from requests<3,>=2.21.0->tensorboard<2.16,>=2.15->tensorflow-macos==2.15.0->tensorflow) (3.4)\n",
      "Requirement already satisfied: urllib3<3,>=1.21.1 in /Users/erni/Library/Python/3.9/lib/python/site-packages (from requests<3,>=2.21.0->tensorboard<2.16,>=2.15->tensorflow-macos==2.15.0->tensorflow) (2.0.6)\n",
      "Requirement already satisfied: certifi>=2017.4.17 in /Users/erni/Library/Python/3.9/lib/python/site-packages (from requests<3,>=2.21.0->tensorboard<2.16,>=2.15->tensorflow-macos==2.15.0->tensorflow) (2023.7.22)\n",
      "Requirement already satisfied: MarkupSafe>=2.1.1 in /Users/erni/Library/Python/3.9/lib/python/site-packages (from werkzeug>=1.0.1->tensorboard<2.16,>=2.15->tensorflow-macos==2.15.0->tensorflow) (2.1.3)\n",
      "Requirement already satisfied: zipp>=0.5 in /Users/erni/Library/Python/3.9/lib/python/site-packages (from importlib-metadata>=4.4->markdown>=2.6.8->tensorboard<2.16,>=2.15->tensorflow-macos==2.15.0->tensorflow) (3.17.0)\n",
      "Requirement already satisfied: pyasn1<0.6.0,>=0.4.6 in /Users/erni/Library/Python/3.9/lib/python/site-packages (from pyasn1-modules>=0.2.1->google-auth<3,>=1.6.3->tensorboard<2.16,>=2.15->tensorflow-macos==2.15.0->tensorflow) (0.5.1)\n",
      "Requirement already satisfied: oauthlib>=3.0.0 in /Users/erni/Library/Python/3.9/lib/python/site-packages (from requests-oauthlib>=0.7.0->google-auth-oauthlib<2,>=0.5->tensorboard<2.16,>=2.15->tensorflow-macos==2.15.0->tensorflow) (3.2.2)\n"
     ]
    }
   ],
   "source": [
    "!pip install tensorflow"
   ]
  },
  {
   "cell_type": "code",
   "execution_count": 11,
   "metadata": {},
   "outputs": [
    {
     "name": "stdout",
     "output_type": "stream",
     "text": [
      "Defaulting to user installation because normal site-packages is not writeable\n",
      "Collecting grpcio==1.42.0\n",
      "  Using cached grpcio-1.42.0.tar.gz (21.3 MB)\n",
      "  Preparing metadata (setup.py) ... \u001b[?25ldone\n",
      "\u001b[?25hCollecting tensorflow-serving-api==2.7.0\n",
      "  Using cached tensorflow_serving_api-2.7.0-py2.py3-none-any.whl (37 kB)\n",
      "Requirement already satisfied: six>=1.5.2 in /Applications/Xcode.app/Contents/Developer/Library/Frameworks/Python3.framework/Versions/3.9/lib/python3.9/site-packages (from grpcio==1.42.0) (1.15.0)\n",
      "Requirement already satisfied: protobuf>=3.6.0 in /Users/erni/Library/Python/3.9/lib/python/site-packages (from tensorflow-serving-api==2.7.0) (4.23.4)\n",
      "Requirement already satisfied: tensorflow<3,>=2.7.0 in /Users/erni/Library/Python/3.9/lib/python/site-packages (from tensorflow-serving-api==2.7.0) (2.15.0)\n",
      "Requirement already satisfied: tensorflow-macos==2.15.0 in /Users/erni/Library/Python/3.9/lib/python/site-packages (from tensorflow<3,>=2.7.0->tensorflow-serving-api==2.7.0) (2.15.0)\n",
      "Requirement already satisfied: absl-py>=1.0.0 in /Users/erni/Library/Python/3.9/lib/python/site-packages (from tensorflow-macos==2.15.0->tensorflow<3,>=2.7.0->tensorflow-serving-api==2.7.0) (2.0.0)\n",
      "Requirement already satisfied: astunparse>=1.6.0 in /Users/erni/Library/Python/3.9/lib/python/site-packages (from tensorflow-macos==2.15.0->tensorflow<3,>=2.7.0->tensorflow-serving-api==2.7.0) (1.6.3)\n",
      "Requirement already satisfied: flatbuffers>=23.5.26 in /Users/erni/Library/Python/3.9/lib/python/site-packages (from tensorflow-macos==2.15.0->tensorflow<3,>=2.7.0->tensorflow-serving-api==2.7.0) (23.5.26)\n",
      "Requirement already satisfied: gast!=0.5.0,!=0.5.1,!=0.5.2,>=0.2.1 in /Users/erni/Library/Python/3.9/lib/python/site-packages (from tensorflow-macos==2.15.0->tensorflow<3,>=2.7.0->tensorflow-serving-api==2.7.0) (0.5.4)\n",
      "Requirement already satisfied: google-pasta>=0.1.1 in /Users/erni/Library/Python/3.9/lib/python/site-packages (from tensorflow-macos==2.15.0->tensorflow<3,>=2.7.0->tensorflow-serving-api==2.7.0) (0.2.0)\n",
      "Requirement already satisfied: h5py>=2.9.0 in /Users/erni/Library/Python/3.9/lib/python/site-packages (from tensorflow-macos==2.15.0->tensorflow<3,>=2.7.0->tensorflow-serving-api==2.7.0) (3.10.0)\n",
      "Requirement already satisfied: libclang>=13.0.0 in /Users/erni/Library/Python/3.9/lib/python/site-packages (from tensorflow-macos==2.15.0->tensorflow<3,>=2.7.0->tensorflow-serving-api==2.7.0) (16.0.6)\n",
      "Requirement already satisfied: ml-dtypes~=0.2.0 in /Users/erni/Library/Python/3.9/lib/python/site-packages (from tensorflow-macos==2.15.0->tensorflow<3,>=2.7.0->tensorflow-serving-api==2.7.0) (0.2.0)\n",
      "Requirement already satisfied: numpy<2.0.0,>=1.23.5 in /Users/erni/Library/Python/3.9/lib/python/site-packages (from tensorflow-macos==2.15.0->tensorflow<3,>=2.7.0->tensorflow-serving-api==2.7.0) (1.26.0)\n",
      "Requirement already satisfied: opt-einsum>=2.3.2 in /Users/erni/Library/Python/3.9/lib/python/site-packages (from tensorflow-macos==2.15.0->tensorflow<3,>=2.7.0->tensorflow-serving-api==2.7.0) (3.3.0)\n",
      "Requirement already satisfied: packaging in /Users/erni/Library/Python/3.9/lib/python/site-packages (from tensorflow-macos==2.15.0->tensorflow<3,>=2.7.0->tensorflow-serving-api==2.7.0) (23.1)\n",
      "Requirement already satisfied: setuptools in /Users/erni/Library/Python/3.9/lib/python/site-packages (from tensorflow-macos==2.15.0->tensorflow<3,>=2.7.0->tensorflow-serving-api==2.7.0) (68.2.2)\n",
      "Requirement already satisfied: termcolor>=1.1.0 in /Users/erni/Library/Python/3.9/lib/python/site-packages (from tensorflow-macos==2.15.0->tensorflow<3,>=2.7.0->tensorflow-serving-api==2.7.0) (2.3.0)\n",
      "Requirement already satisfied: typing-extensions>=3.6.6 in /Users/erni/Library/Python/3.9/lib/python/site-packages (from tensorflow-macos==2.15.0->tensorflow<3,>=2.7.0->tensorflow-serving-api==2.7.0) (4.8.0)\n",
      "Requirement already satisfied: wrapt<1.15,>=1.11.0 in /Users/erni/Library/Python/3.9/lib/python/site-packages (from tensorflow-macos==2.15.0->tensorflow<3,>=2.7.0->tensorflow-serving-api==2.7.0) (1.14.1)\n",
      "Requirement already satisfied: tensorflow-io-gcs-filesystem>=0.23.1 in /Users/erni/Library/Python/3.9/lib/python/site-packages (from tensorflow-macos==2.15.0->tensorflow<3,>=2.7.0->tensorflow-serving-api==2.7.0) (0.34.0)\n",
      "Requirement already satisfied: tensorboard<2.16,>=2.15 in /Users/erni/Library/Python/3.9/lib/python/site-packages (from tensorflow-macos==2.15.0->tensorflow<3,>=2.7.0->tensorflow-serving-api==2.7.0) (2.15.1)\n",
      "Requirement already satisfied: tensorflow-estimator<2.16,>=2.15.0 in /Users/erni/Library/Python/3.9/lib/python/site-packages (from tensorflow-macos==2.15.0->tensorflow<3,>=2.7.0->tensorflow-serving-api==2.7.0) (2.15.0)\n",
      "Requirement already satisfied: keras<2.16,>=2.15.0 in /Users/erni/Library/Python/3.9/lib/python/site-packages (from tensorflow-macos==2.15.0->tensorflow<3,>=2.7.0->tensorflow-serving-api==2.7.0) (2.15.0)\n",
      "Requirement already satisfied: wheel<1.0,>=0.23.0 in /Applications/Xcode.app/Contents/Developer/Library/Frameworks/Python3.framework/Versions/3.9/lib/python3.9/site-packages (from astunparse>=1.6.0->tensorflow-macos==2.15.0->tensorflow<3,>=2.7.0->tensorflow-serving-api==2.7.0) (0.37.0)\n",
      "INFO: pip is looking at multiple versions of tensorboard to determine which version is compatible with other requirements. This could take a while.\n",
      "Collecting tensorboard<2.16,>=2.15 (from tensorflow-macos==2.15.0->tensorflow<3,>=2.7.0->tensorflow-serving-api==2.7.0)\n",
      "  Using cached tensorboard-2.15.0-py3-none-any.whl.metadata (1.7 kB)\n",
      "Collecting tensorflow-macos==2.15.0 (from tensorflow<3,>=2.7.0->tensorflow-serving-api==2.7.0)\n",
      "  Using cached tensorflow_macos-2.15.0-cp39-cp39-macosx_12_0_arm64.whl.metadata (4.2 kB)\n",
      "Collecting tensorflow<3,>=2.7.0 (from tensorflow-serving-api==2.7.0)\n",
      "  Using cached tensorflow-2.15.0-cp39-cp39-macosx_12_0_arm64.whl.metadata (3.6 kB)\n",
      "INFO: pip is still looking at multiple versions of tensorboard to determine which version is compatible with other requirements. This could take a while.\n",
      "  Using cached tensorflow-2.14.1-cp39-cp39-macosx_12_0_arm64.whl.metadata (3.3 kB)\n",
      "Collecting tensorflow-macos==2.14.1 (from tensorflow<3,>=2.7.0->tensorflow-serving-api==2.7.0)\n",
      "  Using cached tensorflow_macos-2.14.1-cp39-cp39-macosx_12_0_arm64.whl.metadata (3.9 kB)\n",
      "Collecting tensorboard<2.15,>=2.14 (from tensorflow-macos==2.14.1->tensorflow<3,>=2.7.0->tensorflow-serving-api==2.7.0)\n",
      "  Using cached tensorboard-2.14.1-py3-none-any.whl.metadata (1.7 kB)\n",
      "Collecting tensorflow-estimator<2.15,>=2.14.0 (from tensorflow-macos==2.14.1->tensorflow<3,>=2.7.0->tensorflow-serving-api==2.7.0)\n",
      "  Using cached tensorflow_estimator-2.14.0-py2.py3-none-any.whl.metadata (1.3 kB)\n",
      "Collecting keras<2.15,>=2.14.0 (from tensorflow-macos==2.14.1->tensorflow<3,>=2.7.0->tensorflow-serving-api==2.7.0)\n",
      "  Using cached keras-2.14.0-py3-none-any.whl.metadata (2.4 kB)\n",
      "Collecting tensorboard<2.15,>=2.14 (from tensorflow-macos==2.14.1->tensorflow<3,>=2.7.0->tensorflow-serving-api==2.7.0)\n",
      "  Using cached tensorboard-2.14.0-py3-none-any.whl.metadata (1.8 kB)\n",
      "Collecting tensorflow<3,>=2.7.0 (from tensorflow-serving-api==2.7.0)\n",
      "  Using cached tensorflow-2.14.0-cp39-cp39-macosx_12_0_arm64.whl.metadata (3.3 kB)\n",
      "Collecting tensorflow-macos==2.14.0 (from tensorflow<3,>=2.7.0->tensorflow-serving-api==2.7.0)\n",
      "  Using cached tensorflow_macos-2.14.0-cp39-cp39-macosx_12_0_arm64.whl.metadata (3.9 kB)\n",
      "Collecting tensorflow<3,>=2.7.0 (from tensorflow-serving-api==2.7.0)\n",
      "  Using cached tensorflow-2.13.1-cp39-cp39-macosx_12_0_arm64.whl.metadata (2.6 kB)\n",
      "Collecting tensorflow-macos==2.13.1 (from tensorflow<3,>=2.7.0->tensorflow-serving-api==2.7.0)\n",
      "  Using cached tensorflow_macos-2.13.1-cp39-cp39-macosx_12_0_arm64.whl.metadata (3.2 kB)\n",
      "Collecting gast<=0.4.0,>=0.2.1 (from tensorflow-macos==2.13.1->tensorflow<3,>=2.7.0->tensorflow-serving-api==2.7.0)\n",
      "  Using cached gast-0.4.0-py3-none-any.whl (9.8 kB)\n",
      "Collecting numpy<=1.24.3,>=1.22 (from tensorflow-macos==2.13.1->tensorflow<3,>=2.7.0->tensorflow-serving-api==2.7.0)\n",
      "  Using cached numpy-1.24.3-cp39-cp39-macosx_11_0_arm64.whl (13.9 MB)\n",
      "Collecting typing-extensions<4.6.0,>=3.6.6 (from tensorflow-macos==2.13.1->tensorflow<3,>=2.7.0->tensorflow-serving-api==2.7.0)\n",
      "  Using cached typing_extensions-4.5.0-py3-none-any.whl (27 kB)\n",
      "Collecting tensorboard<2.14,>=2.13 (from tensorflow-macos==2.13.1->tensorflow<3,>=2.7.0->tensorflow-serving-api==2.7.0)\n",
      "  Using cached tensorboard-2.13.0-py3-none-any.whl (5.6 MB)\n",
      "Collecting tensorflow-estimator<2.14,>=2.13.0 (from tensorflow-macos==2.13.1->tensorflow<3,>=2.7.0->tensorflow-serving-api==2.7.0)\n",
      "  Using cached tensorflow_estimator-2.13.0-py2.py3-none-any.whl.metadata (1.3 kB)\n",
      "Collecting keras<2.14,>=2.13.1 (from tensorflow-macos==2.13.1->tensorflow<3,>=2.7.0->tensorflow-serving-api==2.7.0)\n",
      "  Using cached keras-2.13.1-py3-none-any.whl.metadata (2.4 kB)\n",
      "INFO: This is taking longer than usual. You might need to provide the dependency resolver with stricter constraints to reduce runtime. See https://pip.pypa.io/warnings/backtracking for guidance. If you want to abort this run, press Ctrl + C.\n",
      "Collecting tensorflow<3,>=2.7.0 (from tensorflow-serving-api==2.7.0)\n",
      "  Using cached tensorflow-2.13.0-cp39-cp39-macosx_12_0_arm64.whl.metadata (2.6 kB)\n",
      "Collecting tensorflow-macos==2.13.0 (from tensorflow<3,>=2.7.0->tensorflow-serving-api==2.7.0)\n",
      "  Using cached tensorflow_macos-2.13.0-cp39-cp39-macosx_12_0_arm64.whl.metadata (3.2 kB)\n",
      "\u001b[31mERROR: Cannot install grpcio==1.42.0, tensorflow, tensorflow-macos and tensorflow-serving-api==2.7.0 because these package versions have conflicting dependencies.\u001b[0m\u001b[31m\n",
      "\u001b[0m\n",
      "The conflict is caused by:\n",
      "    The user requested grpcio==1.42.0\n",
      "    tensorflow-serving-api 2.7.0 depends on grpcio<2 and >=1.0\n",
      "    tensorflow-macos 2.13.0 depends on grpcio<2.0 and >=1.24.3\n",
      "    tensorboard 2.13.0 depends on grpcio>=1.48.2\n",
      "\n",
      "To fix this you could try to:\n",
      "1. loosen the range of package versions you've specified\n",
      "2. remove package versions to allow pip attempt to solve the dependency conflict\n",
      "\n",
      "\u001b[31mERROR: ResolutionImpossible: for help visit https://pip.pypa.io/en/latest/topics/dependency-resolution/#dealing-with-dependency-conflicts\u001b[0m\u001b[31m\n",
      "\u001b[0m"
     ]
    }
   ],
   "source": [
    "!pip install grpcio==1.42.0 tensorflow-serving-api==2.7.0"
   ]
  },
  {
   "cell_type": "code",
   "execution_count": 12,
   "metadata": {},
   "outputs": [
    {
     "name": "stdout",
     "output_type": "stream",
     "text": [
      "Defaulting to user installation because normal site-packages is not writeable\n",
      "Requirement already satisfied: keras-image-helper in /Users/erni/Library/Python/3.9/lib/python/site-packages (0.0.1)\n",
      "Requirement already satisfied: numpy in /Users/erni/Library/Python/3.9/lib/python/site-packages (from keras-image-helper) (1.26.0)\n",
      "Requirement already satisfied: pillow in /Users/erni/Library/Python/3.9/lib/python/site-packages (from keras-image-helper) (10.0.1)\n"
     ]
    }
   ],
   "source": [
    "!pip install keras-image-helper"
   ]
  },
  {
   "cell_type": "code",
   "execution_count": 15,
   "metadata": {},
   "outputs": [
    {
     "ename": "ModuleNotFoundError",
     "evalue": "No module named 'tensorflow_serving'",
     "output_type": "error",
     "traceback": [
      "\u001b[0;31m---------------------------------------------------------------------------\u001b[0m",
      "\u001b[0;31mModuleNotFoundError\u001b[0m                       Traceback (most recent call last)",
      "\u001b[1;32m/Users/erni/Desktop/Python/ML_Zoomcamp/ML_Zoomcamp_2023_Course/10-KubernetesTensorFlowServing/tf-serving-connect.ipynb Zelle 5\u001b[0m line \u001b[0;36m4\n\u001b[1;32m      <a href='vscode-notebook-cell:/Users/erni/Desktop/Python/ML_Zoomcamp/ML_Zoomcamp_2023_Course/10-KubernetesTensorFlowServing/tf-serving-connect.ipynb#W3sZmlsZQ%3D%3D?line=0'>1</a>\u001b[0m \u001b[39mimport\u001b[39;00m \u001b[39mgrpc\u001b[39;00m\n\u001b[1;32m      <a href='vscode-notebook-cell:/Users/erni/Desktop/Python/ML_Zoomcamp/ML_Zoomcamp_2023_Course/10-KubernetesTensorFlowServing/tf-serving-connect.ipynb#W3sZmlsZQ%3D%3D?line=1'>2</a>\u001b[0m \u001b[39mimport\u001b[39;00m \u001b[39mtensorflow\u001b[39;00m \u001b[39mas\u001b[39;00m \u001b[39mtf\u001b[39;00m\n\u001b[0;32m----> <a href='vscode-notebook-cell:/Users/erni/Desktop/Python/ML_Zoomcamp/ML_Zoomcamp_2023_Course/10-KubernetesTensorFlowServing/tf-serving-connect.ipynb#W3sZmlsZQ%3D%3D?line=3'>4</a>\u001b[0m \u001b[39mfrom\u001b[39;00m \u001b[39mtensorflow_serving\u001b[39;00m\u001b[39m.\u001b[39;00m\u001b[39mapis\u001b[39;00m \u001b[39mimport\u001b[39;00m predict_pb2\n\u001b[1;32m      <a href='vscode-notebook-cell:/Users/erni/Desktop/Python/ML_Zoomcamp/ML_Zoomcamp_2023_Course/10-KubernetesTensorFlowServing/tf-serving-connect.ipynb#W3sZmlsZQ%3D%3D?line=4'>5</a>\u001b[0m \u001b[39mfrom\u001b[39;00m \u001b[39mtensorflow_serving\u001b[39;00m\u001b[39m.\u001b[39;00m\u001b[39mapis\u001b[39;00m \u001b[39mimport\u001b[39;00m prediction_service_pb2\n",
      "\u001b[0;31mModuleNotFoundError\u001b[0m: No module named 'tensorflow_serving'"
     ]
    }
   ],
   "source": [
    "import grpc\n",
    "import tensorflow as tf\n",
    "\n",
    "from tensorflow_serving.apis import predict_pb2\n",
    "from tensorflow_serving.apis import prediction_service_pb2"
   ]
  },
  {
   "cell_type": "code",
   "execution_count": 17,
   "metadata": {},
   "outputs": [
    {
     "ename": "NameError",
     "evalue": "name 'prediction_service_pb2_grpc' is not defined",
     "output_type": "error",
     "traceback": [
      "\u001b[0;31m---------------------------------------------------------------------------\u001b[0m",
      "\u001b[0;31mNameError\u001b[0m                                 Traceback (most recent call last)",
      "\u001b[1;32m/Users/erni/Desktop/Python/ML_Zoomcamp/ML_Zoomcamp_2023_Course/10-KubernetesTensorFlowServing/tf-serving-connect.ipynb Zelle 6\u001b[0m line \u001b[0;36m3\n\u001b[1;32m      <a href='vscode-notebook-cell:/Users/erni/Desktop/Python/ML_Zoomcamp/ML_Zoomcamp_2023_Course/10-KubernetesTensorFlowServing/tf-serving-connect.ipynb#W5sZmlsZQ%3D%3D?line=0'>1</a>\u001b[0m host \u001b[39m=\u001b[39m \u001b[39m'\u001b[39m\u001b[39mlocalhost:8500\u001b[39m\u001b[39m'\u001b[39m\n\u001b[1;32m      <a href='vscode-notebook-cell:/Users/erni/Desktop/Python/ML_Zoomcamp/ML_Zoomcamp_2023_Course/10-KubernetesTensorFlowServing/tf-serving-connect.ipynb#W5sZmlsZQ%3D%3D?line=1'>2</a>\u001b[0m channel \u001b[39m=\u001b[39m grpc\u001b[39m.\u001b[39minsecure_channel(host)\n\u001b[0;32m----> <a href='vscode-notebook-cell:/Users/erni/Desktop/Python/ML_Zoomcamp/ML_Zoomcamp_2023_Course/10-KubernetesTensorFlowServing/tf-serving-connect.ipynb#W5sZmlsZQ%3D%3D?line=2'>3</a>\u001b[0m stub \u001b[39m=\u001b[39m prediction_service_pb2_grpc\u001b[39m.\u001b[39mPredictionServiceStub(channel)\n",
      "\u001b[0;31mNameError\u001b[0m: name 'prediction_service_pb2_grpc' is not defined"
     ]
    }
   ],
   "source": [
    "host = 'localhost:8500'\n",
    "channel = grpc.insecure_channel(host)\n",
    "stub = prediction_service_pb2_grpc.PredictionServiceStub(channel)"
   ]
  },
  {
   "cell_type": "code",
   "execution_count": 16,
   "metadata": {},
   "outputs": [],
   "source": [
    "from keras_image_helper import create_preprocessor\n",
    "preprocessor = create_preprocessor('xception', target_size=(299, 299))"
   ]
  },
  {
   "cell_type": "code",
   "execution_count": null,
   "metadata": {},
   "outputs": [],
   "source": [
    "url = 'http://bit.ly/mlbookcamp-pants'\n",
    "X = preprocessor.from_url(url)"
   ]
  },
  {
   "cell_type": "markdown",
   "metadata": {},
   "source": [
    "Now we have the preprocessed X which we want to send to our prediction service. Now we need to prepare the request.\n",
    "\n",
    "'clothing-model' is what we specified in the docker command as environment variable 'MODEL_NAME' in !docker run -it --rm -p 8500:8500 -v \"$(pwd)/clothing-model:/models/clothing-model/1\" -e MODEL_NAME=\"clothing-model\" tensorflow/serving:2.7.0.\n",
    "The signature_name and name of input is from the model-description."
   ]
  },
  {
   "cell_type": "code",
   "execution_count": 18,
   "metadata": {},
   "outputs": [],
   "source": [
    "def np_to_protobuf(data):\n",
    "    return tf.make_tensor_proto(data, shape=data.shape)"
   ]
  },
  {
   "cell_type": "code",
   "execution_count": 19,
   "metadata": {},
   "outputs": [
    {
     "ename": "NameError",
     "evalue": "name 'predict_pb2' is not defined",
     "output_type": "error",
     "traceback": [
      "\u001b[0;31m---------------------------------------------------------------------------\u001b[0m",
      "\u001b[0;31mNameError\u001b[0m                                 Traceback (most recent call last)",
      "\u001b[1;32m/Users/erni/Desktop/Python/ML_Zoomcamp/ML_Zoomcamp_2023_Course/10-KubernetesTensorFlowServing/tf-serving-connect.ipynb Zelle 11\u001b[0m line \u001b[0;36m1\n\u001b[0;32m----> <a href='vscode-notebook-cell:/Users/erni/Desktop/Python/ML_Zoomcamp/ML_Zoomcamp_2023_Course/10-KubernetesTensorFlowServing/tf-serving-connect.ipynb#X14sZmlsZQ%3D%3D?line=0'>1</a>\u001b[0m pb_request \u001b[39m=\u001b[39m predict_pb2\u001b[39m.\u001b[39mPredictRequest()\n\u001b[1;32m      <a href='vscode-notebook-cell:/Users/erni/Desktop/Python/ML_Zoomcamp/ML_Zoomcamp_2023_Course/10-KubernetesTensorFlowServing/tf-serving-connect.ipynb#X14sZmlsZQ%3D%3D?line=1'>2</a>\u001b[0m pb_request\u001b[39m.\u001b[39mmodel_spec\u001b[39m.\u001b[39mname \u001b[39m=\u001b[39m \u001b[39m'\u001b[39m\u001b[39mclothing-model\u001b[39m\u001b[39m'\u001b[39m\n\u001b[1;32m      <a href='vscode-notebook-cell:/Users/erni/Desktop/Python/ML_Zoomcamp/ML_Zoomcamp_2023_Course/10-KubernetesTensorFlowServing/tf-serving-connect.ipynb#X14sZmlsZQ%3D%3D?line=2'>3</a>\u001b[0m pb_request\u001b[39m.\u001b[39mmodel_spec\u001b[39m.\u001b[39msignature_name \u001b[39m=\u001b[39m \u001b[39m'\u001b[39m\u001b[39mserving_default\u001b[39m\u001b[39m'\u001b[39m\n",
      "\u001b[0;31mNameError\u001b[0m: name 'predict_pb2' is not defined"
     ]
    }
   ],
   "source": [
    "pb_request = predict_pb2.PredictRequest()\n",
    "pb_request.model_spec.name = 'clothing-model'\n",
    "pb_request.model_spec.signature_name = 'serving_default'\n",
    "pb_request.inputs['input_28'].CopyFrom(np_to_protobuf(X))\n",
    "pb_request"
   ]
  },
  {
   "cell_type": "markdown",
   "metadata": {},
   "source": [
    "The request is prepared so now let's execute the request. It's good to set a timeout, in case the service is not responding."
   ]
  },
  {
   "cell_type": "code",
   "execution_count": null,
   "metadata": {},
   "outputs": [],
   "source": [
    "pb_response = stub.Predict(pb_request, timeout=20.0)\n",
    "pb_response"
   ]
  },
  {
   "cell_type": "code",
   "execution_count": 24,
   "metadata": {},
   "outputs": [
    {
     "ename": "NameError",
     "evalue": "name 'pb_response' is not defined",
     "output_type": "error",
     "traceback": [
      "\u001b[0;31m---------------------------------------------------------------------------\u001b[0m",
      "\u001b[0;31mNameError\u001b[0m                                 Traceback (most recent call last)",
      "\u001b[1;32m/Users/erni/Desktop/Python/ML_Zoomcamp/ML_Zoomcamp_2023_Course/10-KubernetesTensorFlowServing/tf-serving-connect.ipynb Zelle 14\u001b[0m line \u001b[0;36m1\n\u001b[0;32m----> <a href='vscode-notebook-cell:/Users/erni/Desktop/Python/ML_Zoomcamp/ML_Zoomcamp_2023_Course/10-KubernetesTensorFlowServing/tf-serving-connect.ipynb#X20sZmlsZQ%3D%3D?line=0'>1</a>\u001b[0m preds \u001b[39m=\u001b[39m pb_response\u001b[39m.\u001b[39moutputs[\u001b[39m'\u001b[39m\u001b[39mdense_22\u001b[39m\u001b[39m'\u001b[39m]\u001b[39m.\u001b[39mfloat_val\n",
      "\u001b[0;31mNameError\u001b[0m: name 'pb_response' is not defined"
     ]
    }
   ],
   "source": [
    "preds = pb_response.outputs['dense_22'].float_val"
   ]
  },
  {
   "cell_type": "code",
   "execution_count": 23,
   "metadata": {},
   "outputs": [
    {
     "ename": "NameError",
     "evalue": "name 'preds' is not defined",
     "output_type": "error",
     "traceback": [
      "\u001b[0;31m---------------------------------------------------------------------------\u001b[0m",
      "\u001b[0;31mNameError\u001b[0m                                 Traceback (most recent call last)",
      "\u001b[1;32m/Users/erni/Desktop/Python/ML_Zoomcamp/ML_Zoomcamp_2023_Course/10-KubernetesTensorFlowServing/tf-serving-connect.ipynb Zelle 15\u001b[0m line \u001b[0;36m1\n\u001b[1;32m      <a href='vscode-notebook-cell:/Users/erni/Desktop/Python/ML_Zoomcamp/ML_Zoomcamp_2023_Course/10-KubernetesTensorFlowServing/tf-serving-connect.ipynb#X21sZmlsZQ%3D%3D?line=0'>1</a>\u001b[0m classes \u001b[39m=\u001b[39m [\n\u001b[1;32m      <a href='vscode-notebook-cell:/Users/erni/Desktop/Python/ML_Zoomcamp/ML_Zoomcamp_2023_Course/10-KubernetesTensorFlowServing/tf-serving-connect.ipynb#X21sZmlsZQ%3D%3D?line=1'>2</a>\u001b[0m     \u001b[39m'\u001b[39m\u001b[39mdress\u001b[39m\u001b[39m'\u001b[39m,\n\u001b[1;32m      <a href='vscode-notebook-cell:/Users/erni/Desktop/Python/ML_Zoomcamp/ML_Zoomcamp_2023_Course/10-KubernetesTensorFlowServing/tf-serving-connect.ipynb#X21sZmlsZQ%3D%3D?line=2'>3</a>\u001b[0m     \u001b[39m'\u001b[39m\u001b[39mhat\u001b[39m\u001b[39m'\u001b[39m,\n\u001b[0;32m   (...)\u001b[0m\n\u001b[1;32m     <a href='vscode-notebook-cell:/Users/erni/Desktop/Python/ML_Zoomcamp/ML_Zoomcamp_2023_Course/10-KubernetesTensorFlowServing/tf-serving-connect.ipynb#X21sZmlsZQ%3D%3D?line=10'>11</a>\u001b[0m     \u001b[39m'\u001b[39m\u001b[39mt-shirt\u001b[39m\u001b[39m'\u001b[39m\n\u001b[1;32m     <a href='vscode-notebook-cell:/Users/erni/Desktop/Python/ML_Zoomcamp/ML_Zoomcamp_2023_Course/10-KubernetesTensorFlowServing/tf-serving-connect.ipynb#X21sZmlsZQ%3D%3D?line=11'>12</a>\u001b[0m ]\n\u001b[0;32m---> <a href='vscode-notebook-cell:/Users/erni/Desktop/Python/ML_Zoomcamp/ML_Zoomcamp_2023_Course/10-KubernetesTensorFlowServing/tf-serving-connect.ipynb#X21sZmlsZQ%3D%3D?line=13'>14</a>\u001b[0m \u001b[39mdict\u001b[39m(\u001b[39mzip\u001b[39m(classes, preds))\n",
      "\u001b[0;31mNameError\u001b[0m: name 'preds' is not defined"
     ]
    }
   ],
   "source": [
    "classes = [\n",
    "    'dress',\n",
    "    'hat',\n",
    "    'longsleeve',\n",
    "    'outwear',\n",
    "    'pants',\n",
    "    'shirt',\n",
    "    'shoes',\n",
    "    'shorts',\n",
    "    'skirt',\n",
    "    't-shirt'\n",
    "]\n",
    "\n",
    "dict(zip(classes, preds))"
   ]
  },
  {
   "cell_type": "markdown",
   "metadata": {},
   "source": []
  },
  {
   "cell_type": "markdown",
   "metadata": {},
   "source": []
  },
  {
   "cell_type": "code",
   "execution_count": null,
   "metadata": {},
   "outputs": [],
   "source": []
  },
  {
   "cell_type": "markdown",
   "metadata": {},
   "source": []
  }
 ],
 "metadata": {
  "kernelspec": {
   "display_name": "Python 3",
   "language": "python",
   "name": "python3"
  },
  "language_info": {
   "codemirror_mode": {
    "name": "ipython",
    "version": 3
   },
   "file_extension": ".py",
   "mimetype": "text/x-python",
   "name": "python",
   "nbconvert_exporter": "python",
   "pygments_lexer": "ipython3",
   "version": "3.9.6"
  }
 },
 "nbformat": 4,
 "nbformat_minor": 2
}
