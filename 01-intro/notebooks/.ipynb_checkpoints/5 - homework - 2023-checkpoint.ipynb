{
 "cells": [
  {
   "cell_type": "markdown",
   "id": "d076587a",
   "metadata": {},
   "source": [
    "# Homework"
   ]
  },
  {
   "cell_type": "markdown",
   "id": "e4a7b2b8",
   "metadata": {},
   "source": [
    "## Question 1          Answer: version 2023.9.1\n",
    "\n",
    "- Install Pipenv\n",
    "- What's the version of pipenv you installed?\n",
    "- Use --version to find out\n"
   ]
  },
  {
   "cell_type": "code",
   "execution_count": 2,
   "id": "fa602b7f",
   "metadata": {},
   "outputs": [
    {
     "name": "stdout",
     "output_type": "stream",
     "text": [
      "\u001b[1mpipenv\u001b[0m, version 2023.9.1\r\n"
     ]
    }
   ],
   "source": [
    "!pipenv --version"
   ]
  },
  {
   "cell_type": "markdown",
   "id": "690a0b19",
   "metadata": {},
   "source": [
    "## Question 2\n",
    "\n",
    "- Use Pipenv to install Scikit-Learn version 1.3.1\n",
    "- What's the first hash for scikit-learn you get in Pipfile.lock?\n",
    "\n",
    "- Note: you should create an empty folder for homework and do it there.\n"
   ]
  }
 ],
 "metadata": {
  "kernelspec": {
   "display_name": "Python 3 (ipykernel)",
   "language": "python",
   "name": "python3"
  },
  "language_info": {
   "codemirror_mode": {
    "name": "ipython",
    "version": 3
   },
   "file_extension": ".py",
   "mimetype": "text/x-python",
   "name": "python",
   "nbconvert_exporter": "python",
   "pygments_lexer": "ipython3",
   "version": "3.11.3"
  }
 },
 "nbformat": 4,
 "nbformat_minor": 5
}
