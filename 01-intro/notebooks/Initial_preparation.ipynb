{
 "cells": [
  {
   "cell_type": "markdown",
   "id": "240b33aa",
   "metadata": {},
   "source": [
    "Test"
   ]
  },
  {
   "cell_type": "code",
   "execution_count": 1,
   "id": "649c3087",
   "metadata": {},
   "outputs": [
    {
     "name": "stdout",
     "output_type": "stream",
     "text": [
      "Python 3.9.17\r\n"
     ]
    }
   ],
   "source": [
    "!python -V"
   ]
  },
  {
   "cell_type": "code",
   "execution_count": 2,
   "id": "c710f762",
   "metadata": {},
   "outputs": [],
   "source": [
    "import pandas as pd"
   ]
  },
  {
   "cell_type": "markdown",
   "id": "1ebb8c45",
   "metadata": {},
   "source": [
    "You need:\n",
    "\n",
    "    Python 3.9 (note that videos use 3.8)\n",
    "    NumPy, Pandas and Scikit-Learn (latest available versions)\n",
    "    Matplotlib and Seaborn\n",
    "    Jupyter notebooks"
   ]
  },
  {
   "cell_type": "markdown",
   "id": "bb8ca150",
   "metadata": {},
   "source": [
    "pip install numpy pandas scikit-learn seaborn jupyter xgboost\n",
    "\n",
    "Later in the course you will also need to install Tensorflow, but we can skip this part for now."
   ]
  },
  {
   "cell_type": "raw",
   "id": "7d673c31",
   "metadata": {},
   "source": [
    "to get information about installed version type\n",
    "--> this information you can use for pipfile\n",
    "\n",
    "pip freeze | grep jupyter\n",
    "jupyter==1.0.0\n",
    "jupyter-console==6.6.3\n",
    "jupyter-events==0.7.0\n",
    "jupyter-lsp==2.2.0\n",
    "jupyter_client==8.3.1\n",
    "jupyter_core==5.3.1\n",
    "jupyter_server==2.7.3\n",
    "jupyter_server_terminals==0.4.4\n",
    "jupyterlab==4.0.5\n",
    "jupyterlab-pygments==0.2.2\n",
    "jupyterlab-widgets==3.0.8\n",
    "jupyterlab_server==2.24.0\n",
    "\n",
    "pip freeze | grep numpy\n",
    "numpy==1.25.2\n",
    "\n",
    "pip freeze | grep pandas\n",
    "pandas==2.1.0\n",
    "\n",
    "pip freeze | grep scikit-learn\n",
    "scikit-learn==1.3.0\n",
    "\n",
    "pip freeze | grep seaborn\n",
    "seaborn==0.12.2\n",
    "\n",
    "pip freeze | grep xgboost\n",
    "xgboost==1.7.6\n"
   ]
  },
  {
   "cell_type": "markdown",
   "id": "6c7b544a",
   "metadata": {},
   "source": [
    "## Reproduce environment"
   ]
  },
  {
   "cell_type": "raw",
   "id": "b09a5ba7",
   "metadata": {},
   "source": [
    "[Makefile]\n",
    "export PIPENV_VENV_IN_PROJECT := 1\n",
    "export PIPENV_VERBOSITY := -1\n",
    "\n",
    "environment:\n",
    "\t@echo \"Building Python environment\"\n",
    "\tpython3 -m pip install --upgrade pip\n",
    "\tpip install --upgrade pipenv\n",
    "\tpipenv install --python 3.9"
   ]
  },
  {
   "cell_type": "raw",
   "id": "690cc8b8",
   "metadata": {},
   "source": [
    "# use this to prepare environment with installed dependencies from pipfile\n",
    "make environment"
   ]
  },
  {
   "cell_type": "code",
   "execution_count": null,
   "id": "9d047e26",
   "metadata": {},
   "outputs": [],
   "source": []
  }
 ],
 "metadata": {
  "kernelspec": {
   "display_name": "Python 3 (ipykernel)",
   "language": "python",
   "name": "python3"
  },
  "language_info": {
   "codemirror_mode": {
    "name": "ipython",
    "version": 3
   },
   "file_extension": ".py",
   "mimetype": "text/x-python",
   "name": "python",
   "nbconvert_exporter": "python",
   "pygments_lexer": "ipython3",
   "version": "3.11.3"
  }
 },
 "nbformat": 4,
 "nbformat_minor": 5
}
